{
 "cells": [
  {
   "cell_type": "markdown",
   "metadata": {},
   "source": [
    "# Step 1.1: Extracting Basic Features\n",
    "\n"
   ]
  },
  {
   "cell_type": "markdown",
   "metadata": {},
   "source": [
    "Previously we have cleaned the data and exported a few clean datasets (in the **data/step1** folder).\n",
    "\n",
    "- **biz.csv**: Businesses of 8 selected states, with neighborhood information derived from Zillow neighborhoods, and census tract information derived from geographical boundaries of census tracts. Some businesses may not be associated with any neighborhood name.\n",
    "- **neighborhoods/neighborhoods.shp**: Shape file of all Zillow neighborhoods in the 8 states that have at least one business.\n",
    "- **census-tracts/census-tracts.shp**: Shape file of all census tracts in the 8 states that have at least one business.\n",
    "\n",
    "In this notebook, we aggregate a few neighborhood/census tract level measurements based on the Yelp data. Then we will apply clustering algorithms to these measurements later, to separate neighborhoods based on their business dynamics."
   ]
  },
  {
   "cell_type": "code",
   "execution_count": 20,
   "metadata": {
    "collapsed": true
   },
   "outputs": [],
   "source": [
    "import numpy as np\n",
    "import pandas as pd\n",
    "import matplotlib.pyplot as plt\n",
    "import seaborn as sns\n",
    "\n",
    "from pandas.io.json import json_normalize\n",
    "\n",
    "sns.set(\n",
    "    style=\"white\",\n",
    "    color_codes=True,\n",
    "    rc={\n",
    "        'axes.linewidth': 0.5,\n",
    "        'lines.linewidth': 2,\n",
    "        'axes.labelsize': 14,\n",
    "        'axes.titlesize': 14\n",
    "    }\n",
    ")\n",
    "\n",
    "pd.set_option('display.max_rows', 4)\n",
    "\n",
    "%matplotlib inline\n",
    "%config InlineBackend.figure_format = 'retina'"
   ]
  },
  {
   "cell_type": "markdown",
   "metadata": {},
   "source": [
    "## Basic features"
   ]
  },
  {
   "cell_type": "code",
   "execution_count": 21,
   "metadata": {
    "collapsed": true
   },
   "outputs": [],
   "source": [
    "# Load data\n",
    "biz = pd.read_csv('../data/step1/biz.csv', dtype={\n",
    "    'postal_code': str,\n",
    "    'CT_ID': str\n",
    "})\n",
    "# drop those without Nhood information\n",
    "# biz = biz[biz['Nhood'].notnull()]"
   ]
  },
  {
   "cell_type": "code",
   "execution_count": 22,
   "metadata": {},
   "outputs": [
    {
     "data": {
      "text/html": [
       "<div>\n",
       "<style>\n",
       "    .dataframe thead tr:only-child th {\n",
       "        text-align: right;\n",
       "    }\n",
       "\n",
       "    .dataframe thead th {\n",
       "        text-align: left;\n",
       "    }\n",
       "\n",
       "    .dataframe tbody tr th {\n",
       "        vertical-align: top;\n",
       "    }\n",
       "</style>\n",
       "<table border=\"1\" class=\"dataframe\">\n",
       "  <thead>\n",
       "    <tr style=\"text-align: right;\">\n",
       "      <th></th>\n",
       "      <th>is_open</th>\n",
       "      <th>review_count</th>\n",
       "      <th>stars</th>\n",
       "      <th>Canadian (New)</th>\n",
       "      <th>RestaurantsPriceRange2</th>\n",
       "      <th>wday_hrs</th>\n",
       "      <th>wend_hrs</th>\n",
       "      <th>CT_LAND</th>\n",
       "      <th>CT_WATER</th>\n",
       "      <th>CT_BIZ_COUNT</th>\n",
       "      <th>Nhood_area</th>\n",
       "      <th>Nhood_biz_count</th>\n",
       "      <th>n_biz_in_2km</th>\n",
       "      <th>longitude</th>\n",
       "      <th>latitude</th>\n",
       "    </tr>\n",
       "  </thead>\n",
       "  <tbody>\n",
       "    <tr>\n",
       "      <th>count</th>\n",
       "      <td>115522.000000</td>\n",
       "      <td>115522.000000</td>\n",
       "      <td>115522.000000</td>\n",
       "      <td>0.0</td>\n",
       "      <td>64888.000000</td>\n",
       "      <td>115522.000000</td>\n",
       "      <td>115522.000000</td>\n",
       "      <td>1.155220e+05</td>\n",
       "      <td>1.155220e+05</td>\n",
       "      <td>115522.000000</td>\n",
       "      <td>7.131500e+04</td>\n",
       "      <td>71315.000000</td>\n",
       "      <td>115522.000000</td>\n",
       "      <td>115522.000000</td>\n",
       "      <td>115522.000000</td>\n",
       "    </tr>\n",
       "    <tr>\n",
       "      <th>mean</th>\n",
       "      <td>0.848869</td>\n",
       "      <td>34.195876</td>\n",
       "      <td>3.681649</td>\n",
       "      <td>NaN</td>\n",
       "      <td>1.758399</td>\n",
       "      <td>40.837805</td>\n",
       "      <td>12.190735</td>\n",
       "      <td>1.094599e+07</td>\n",
       "      <td>1.784289e+05</td>\n",
       "      <td>170.122003</td>\n",
       "      <td>6.087613e+07</td>\n",
       "      <td>1656.134011</td>\n",
       "      <td>479.474074</td>\n",
       "      <td>-103.123968</td>\n",
       "      <td>36.094266</td>\n",
       "    </tr>\n",
       "    <tr>\n",
       "      <th>...</th>\n",
       "      <td>...</td>\n",
       "      <td>...</td>\n",
       "      <td>...</td>\n",
       "      <td>...</td>\n",
       "      <td>...</td>\n",
       "      <td>...</td>\n",
       "      <td>...</td>\n",
       "      <td>...</td>\n",
       "      <td>...</td>\n",
       "      <td>...</td>\n",
       "      <td>...</td>\n",
       "      <td>...</td>\n",
       "      <td>...</td>\n",
       "      <td>...</td>\n",
       "      <td>...</td>\n",
       "    </tr>\n",
       "    <tr>\n",
       "      <th>75%</th>\n",
       "      <td>1.000000</td>\n",
       "      <td>26.000000</td>\n",
       "      <td>4.500000</td>\n",
       "      <td>NaN</td>\n",
       "      <td>2.000000</td>\n",
       "      <td>56.000000</td>\n",
       "      <td>20.000000</td>\n",
       "      <td>5.591792e+06</td>\n",
       "      <td>1.298400e+04</td>\n",
       "      <td>171.000000</td>\n",
       "      <td>9.457853e+07</td>\n",
       "      <td>2882.000000</td>\n",
       "      <td>627.000000</td>\n",
       "      <td>-81.805939</td>\n",
       "      <td>36.217370</td>\n",
       "    </tr>\n",
       "    <tr>\n",
       "      <th>max</th>\n",
       "      <td>1.000000</td>\n",
       "      <td>6979.000000</td>\n",
       "      <td>5.000000</td>\n",
       "      <td>NaN</td>\n",
       "      <td>4.000000</td>\n",
       "      <td>120.000000</td>\n",
       "      <td>48.000000</td>\n",
       "      <td>2.147484e+09</td>\n",
       "      <td>2.904698e+08</td>\n",
       "      <td>1767.000000</td>\n",
       "      <td>2.707229e+08</td>\n",
       "      <td>5454.000000</td>\n",
       "      <td>3151.000000</td>\n",
       "      <td>-75.062989</td>\n",
       "      <td>46.504003</td>\n",
       "    </tr>\n",
       "  </tbody>\n",
       "</table>\n",
       "<p>8 rows × 15 columns</p>\n",
       "</div>"
      ],
      "text/plain": [
       "             is_open   review_count          stars  Canadian (New)  \\\n",
       "count  115522.000000  115522.000000  115522.000000             0.0   \n",
       "mean        0.848869      34.195876       3.681649             NaN   \n",
       "...              ...            ...            ...             ...   \n",
       "75%         1.000000      26.000000       4.500000             NaN   \n",
       "max         1.000000    6979.000000       5.000000             NaN   \n",
       "\n",
       "       RestaurantsPriceRange2       wday_hrs       wend_hrs       CT_LAND  \\\n",
       "count            64888.000000  115522.000000  115522.000000  1.155220e+05   \n",
       "mean                 1.758399      40.837805      12.190735  1.094599e+07   \n",
       "...                       ...            ...            ...           ...   \n",
       "75%                  2.000000      56.000000      20.000000  5.591792e+06   \n",
       "max                  4.000000     120.000000      48.000000  2.147484e+09   \n",
       "\n",
       "           CT_WATER   CT_BIZ_COUNT    Nhood_area  Nhood_biz_count  \\\n",
       "count  1.155220e+05  115522.000000  7.131500e+04     71315.000000   \n",
       "mean   1.784289e+05     170.122003  6.087613e+07      1656.134011   \n",
       "...             ...            ...           ...              ...   \n",
       "75%    1.298400e+04     171.000000  9.457853e+07      2882.000000   \n",
       "max    2.904698e+08    1767.000000  2.707229e+08      5454.000000   \n",
       "\n",
       "        n_biz_in_2km      longitude       latitude  \n",
       "count  115522.000000  115522.000000  115522.000000  \n",
       "mean      479.474074    -103.123968      36.094266  \n",
       "...              ...            ...            ...  \n",
       "75%       627.000000     -81.805939      36.217370  \n",
       "max      3151.000000     -75.062989      46.504003  \n",
       "\n",
       "[8 rows x 15 columns]"
      ]
     },
     "execution_count": 22,
     "metadata": {},
     "output_type": "execute_result"
    }
   ],
   "source": [
    "biz.describe()"
   ]
  },
  {
   "cell_type": "code",
   "execution_count": 23,
   "metadata": {},
   "outputs": [
    {
     "data": {
      "text/plain": [
       "Index(['address', 'business_id', 'city', 'is_open', 'name', 'neighborhood',\n",
       "       'postal_code', 'review_count', 'stars', 'state', 'Active Life',\n",
       "       'American (New)', 'American (Traditional)', 'Arts & Entertainment',\n",
       "       'Asian Fusion', 'Automotive', 'Bakeries', 'Barbeque', 'Beauty & Spas',\n",
       "       'Breakfast & Brunch', 'Buffets', 'Burgers', 'Cafes', 'Canadian (New)',\n",
       "       'Chicken Wings', 'Chinese', 'Coffee & Tea', 'Convenience Stores',\n",
       "       'Delis', 'Desserts', 'Diners', 'Event Planning & Services', 'Fast Food',\n",
       "       'Food', 'French', 'Greek', 'Grocery', 'Health & Medical',\n",
       "       'Home Services', 'Hotels & Travel', 'Ice Cream & Frozen Yogurt',\n",
       "       'Indian', 'Italian', 'Japanese', 'Juice Bars & Smoothies', 'Korean',\n",
       "       'Local Services', 'Mediterranean', 'Mexican', 'Middle Eastern',\n",
       "       'Nightlife', 'Pets', 'Pizza', 'Professional Services', 'Restaurants',\n",
       "       'Salad', 'Sandwiches', 'Seafood', 'Shopping', 'Specialty Food',\n",
       "       'Steakhouses', 'Sushi Bars', 'Thai', 'Vegetarian', 'Vietnamese',\n",
       "       'BusinessAcceptsCreditCards', 'BikeParking', 'GoodForKids',\n",
       "       'OutdoorSeating', 'RestaurantsPriceRange2', 'RestaurantsGoodForGroups',\n",
       "       'RestaurantsDelivery', 'RestaurantsTakeOut', 'RestaurantsReservations',\n",
       "       'RestaurantsAttire', 'Alcohol', 'wday_hrs', 'wend_hrs',\n",
       "       'open_till_late', 'CT_ID', 'CT_LAND', 'CT_WATER', 'CT_BIZ_COUNT',\n",
       "       'State', 'County', 'City', 'Name', 'Nhood', 'Nhood_area',\n",
       "       'Nhood_biz_count', 'n_biz_in_2km', 'longitude', 'latitude'],\n",
       "      dtype='object')"
      ]
     },
     "metadata": {},
     "output_type": "display_data"
    }
   ],
   "source": [
    "display(biz.columns)"
   ]
  },
  {
   "cell_type": "code",
   "execution_count": 24,
   "metadata": {},
   "outputs": [
    {
     "data": {
      "text/plain": [
       "0         44143\n",
       "1         28215\n",
       "          ...  \n",
       "115520    85281\n",
       "115521    89014\n",
       "Name: postal_code, Length: 115522, dtype: object"
      ]
     },
     "metadata": {},
     "output_type": "display_data"
    }
   ],
   "source": [
    "display(biz.postal_code)"
   ]
  },
  {
   "cell_type": "markdown",
   "metadata": {},
   "source": [
    "### Alcohol\n",
    "\n",
    "Possible values for `Alcohol`"
   ]
  },
  {
   "cell_type": "code",
   "execution_count": 25,
   "metadata": {},
   "outputs": [
    {
     "data": {
      "text/plain": [
       "array([nan, 'none', 'full_bar', 'beer_and_wine'], dtype=object)"
      ]
     },
     "execution_count": 25,
     "metadata": {},
     "output_type": "execute_result"
    }
   ],
   "source": [
    "biz.Alcohol.unique()"
   ]
  },
  {
   "cell_type": "code",
   "execution_count": 26,
   "metadata": {
    "collapsed": true
   },
   "outputs": [],
   "source": [
    "# biz.loc[biz['Alcohol'] == 'none', 'Alcohol'] = np.nan\n",
    "# biz.Alcohol.unique()"
   ]
  },
  {
   "cell_type": "markdown",
   "metadata": {},
   "source": [
    "### Price range"
   ]
  },
  {
   "cell_type": "code",
   "execution_count": 27,
   "metadata": {},
   "outputs": [
    {
     "data": {
      "text/plain": [
       "array([  2.,   2.,  nan,   1.,   2.,  nan,  nan,   2.,  nan,  nan])"
      ]
     },
     "execution_count": 27,
     "metadata": {},
     "output_type": "execute_result"
    }
   ],
   "source": [
    "biz.RestaurantsPriceRange2.values[:10]"
   ]
  },
  {
   "cell_type": "markdown",
   "metadata": {},
   "source": [
    "### Restaurant Attributes"
   ]
  },
  {
   "cell_type": "markdown",
   "metadata": {},
   "source": [
    "There are a few restaurant only attributes.\n",
    "\n",
    "- RestaurantsTakeOut\n",
    "- RestaurantsGoodForGroups\n",
    "- RestaurantsDelivery\n",
    "- RestaurantsReservations\n",
    "- RestaurantsAttire\n",
    "- RestaurantsTableService\n",
    "- RestaurantsCounterService\n",
    "\n",
    "We would want to know how many restaurants have those attributes set."
   ]
  },
  {
   "cell_type": "code",
   "execution_count": 28,
   "metadata": {},
   "outputs": [
    {
     "name": "stdout",
     "output_type": "stream",
     "text": [
      "Restaurants               1.0\n",
      "RestaurantsPriceRange2    0.9395593745962011\n",
      "RestaurantsGoodForGroups  0.919369427574622\n",
      "RestaurantsDelivery       0.8995671275358573\n",
      "RestaurantsTakeOut        0.9249580049101951\n",
      "RestaurantsReservations   0.9021191368393849\n",
      "RestaurantsAttire         0.9038635482620494\n",
      "OutdoorSeating            0.8863225222897015\n",
      "Alcohol                   0.8305336606796744\n"
     ]
    }
   ],
   "source": [
    "def check_notnull_ratio(biz, attr1, attr2):\n",
    "    return (biz[biz[attr1].notnull()][attr2].notnull()).mean()\n",
    "\n",
    "rest_attrs = list(filter(lambda x: x.startswith('Restaurants'), biz.columns))\n",
    "for attr in rest_attrs + ['OutdoorSeating', 'Alcohol']:\n",
    "    print('{: <25} {}'.format(attr, check_notnull_ratio(biz, 'Restaurants', attr)))"
   ]
  },
  {
   "cell_type": "code",
   "execution_count": 29,
   "metadata": {},
   "outputs": [
    {
     "data": {
      "text/plain": [
       "array([nan, 'casual', 'dressy', 'formal'], dtype=object)"
      ]
     },
     "execution_count": 29,
     "metadata": {},
     "output_type": "execute_result"
    }
   ],
   "source": [
    "biz.RestaurantsAttire.unique()"
   ]
  },
  {
   "cell_type": "code",
   "execution_count": 30,
   "metadata": {},
   "outputs": [
    {
     "data": {
      "text/plain": [
       "0.0060075137203303266"
      ]
     },
     "metadata": {},
     "output_type": "display_data"
    },
    {
     "data": {
      "text/plain": [
       "0.0247936836840413"
      ]
     },
     "metadata": {},
     "output_type": "display_data"
    }
   ],
   "source": [
    "is_formal = biz['RestaurantsAttire'].isin(['dressy', 'formal'])\n",
    "display(is_formal.mean())\n",
    "is_formal[biz['RestaurantsAttire'].isnull()] = np.nan\n",
    "display(is_formal.mean())"
   ]
  },
  {
   "cell_type": "code",
   "execution_count": 31,
   "metadata": {
    "collapsed": true
   },
   "outputs": [],
   "source": [
    "# Must dress formal\n",
    "dress_formal = biz['RestaurantsAttire'].isin(['dressy', 'formal'])\n",
    "dress_formal[biz['RestaurantsAttire'].isnull()] = np.nan\n",
    "biz['DressFormal'] = dress_formal"
   ]
  },
  {
   "cell_type": "code",
   "execution_count": 32,
   "metadata": {},
   "outputs": [
    {
     "data": {
      "text/plain": [
       "array([nan, False, True], dtype=object)"
      ]
     },
     "execution_count": 32,
     "metadata": {},
     "output_type": "execute_result"
    }
   ],
   "source": [
    "biz.OutdoorSeating.unique()"
   ]
  },
  {
   "cell_type": "code",
   "execution_count": 33,
   "metadata": {},
   "outputs": [
    {
     "data": {
      "text/plain": [
       "array([nan, True, False], dtype=object)"
      ]
     },
     "execution_count": 33,
     "metadata": {},
     "output_type": "execute_result"
    }
   ],
   "source": [
    "biz.RestaurantsTakeOut.unique()"
   ]
  },
  {
   "cell_type": "markdown",
   "metadata": {},
   "source": [
    "## Build the feature matrix\n",
    "\n",
    "After examing the extreme/unique values of the features, now aggregate the measurementns to neighborhoods and census tracts."
   ]
  },
  {
   "cell_type": "code",
   "execution_count": 35,
   "metadata": {
    "scrolled": false
   },
   "outputs": [
    {
     "data": {
      "text/html": [
       "<div>\n",
       "<style>\n",
       "    .dataframe thead tr:only-child th {\n",
       "        text-align: right;\n",
       "    }\n",
       "\n",
       "    .dataframe thead th {\n",
       "        text-align: left;\n",
       "    }\n",
       "\n",
       "    .dataframe tbody tr th {\n",
       "        vertical-align: top;\n",
       "    }\n",
       "</style>\n",
       "<table border=\"1\" class=\"dataframe\">\n",
       "  <thead>\n",
       "    <tr style=\"text-align: right;\">\n",
       "      <th></th>\n",
       "      <th>Nhood</th>\n",
       "      <th>business_id_count</th>\n",
       "      <th>n_biz_in_2km_avg</th>\n",
       "      <th>is_open_avg</th>\n",
       "      <th>stars_avg</th>\n",
       "      <th>review_count_avg</th>\n",
       "      <th>wday_hrs_avg</th>\n",
       "      <th>wend_hrs_avg</th>\n",
       "      <th>RestaurantsPriceRange2_avg</th>\n",
       "      <th>open_till_late_ratio</th>\n",
       "      <th>...</th>\n",
       "      <th>Home Services_ratio</th>\n",
       "      <th>Local Services_ratio</th>\n",
       "      <th>Beauty &amp; Spas_ratio</th>\n",
       "      <th>Health &amp; Medical_ratio</th>\n",
       "      <th>Automotive_ratio</th>\n",
       "      <th>Arts &amp; Entertainment_ratio</th>\n",
       "      <th>Hotels &amp; Travel_ratio</th>\n",
       "      <th>Alcohol_ratio</th>\n",
       "      <th>DressFormal_ratio</th>\n",
       "      <th>RestaurantsTakeOut_ratio</th>\n",
       "    </tr>\n",
       "  </thead>\n",
       "  <tbody>\n",
       "    <tr>\n",
       "      <th>0</th>\n",
       "      <td>The Strip, Las Vegas, NV</td>\n",
       "      <td>2643</td>\n",
       "      <td>2522.919031</td>\n",
       "      <td>0.792660</td>\n",
       "      <td>3.570942</td>\n",
       "      <td>177.988271</td>\n",
       "      <td>41.209768</td>\n",
       "      <td>16.522783</td>\n",
       "      <td>2.342282</td>\n",
       "      <td>0.364359</td>\n",
       "      <td>...</td>\n",
       "      <td>0.006054</td>\n",
       "      <td>0.013243</td>\n",
       "      <td>0.072266</td>\n",
       "      <td>0.009837</td>\n",
       "      <td>0.004540</td>\n",
       "      <td>0.179342</td>\n",
       "      <td>0.082482</td>\n",
       "      <td>0.332577</td>\n",
       "      <td>0.04843</td>\n",
       "      <td>0.271283</td>\n",
       "    </tr>\n",
       "    <tr>\n",
       "      <th>1</th>\n",
       "      <td>Meadows Village, Las Vegas, NV</td>\n",
       "      <td>426</td>\n",
       "      <td>1546.462441</td>\n",
       "      <td>0.786385</td>\n",
       "      <td>3.937793</td>\n",
       "      <td>57.819249</td>\n",
       "      <td>44.392567</td>\n",
       "      <td>14.867332</td>\n",
       "      <td>1.897119</td>\n",
       "      <td>0.215962</td>\n",
       "      <td>...</td>\n",
       "      <td>0.105634</td>\n",
       "      <td>0.105634</td>\n",
       "      <td>0.079812</td>\n",
       "      <td>0.023474</td>\n",
       "      <td>0.098592</td>\n",
       "      <td>0.119718</td>\n",
       "      <td>0.086854</td>\n",
       "      <td>0.136150</td>\n",
       "      <td>0.00939</td>\n",
       "      <td>0.157277</td>\n",
       "    </tr>\n",
       "    <tr>\n",
       "      <th>...</th>\n",
       "      <td>...</td>\n",
       "      <td>...</td>\n",
       "      <td>...</td>\n",
       "      <td>...</td>\n",
       "      <td>...</td>\n",
       "      <td>...</td>\n",
       "      <td>...</td>\n",
       "      <td>...</td>\n",
       "      <td>...</td>\n",
       "      <td>...</td>\n",
       "      <td>...</td>\n",
       "      <td>...</td>\n",
       "      <td>...</td>\n",
       "      <td>...</td>\n",
       "      <td>...</td>\n",
       "      <td>...</td>\n",
       "      <td>...</td>\n",
       "      <td>...</td>\n",
       "      <td>...</td>\n",
       "      <td>...</td>\n",
       "      <td>...</td>\n",
       "    </tr>\n",
       "    <tr>\n",
       "      <th>313</th>\n",
       "      <td>Foothills, Henderson, NV</td>\n",
       "      <td>39</td>\n",
       "      <td>29.487179</td>\n",
       "      <td>0.923077</td>\n",
       "      <td>3.974359</td>\n",
       "      <td>12.333333</td>\n",
       "      <td>43.352564</td>\n",
       "      <td>13.179487</td>\n",
       "      <td>1.666667</td>\n",
       "      <td>0.205128</td>\n",
       "      <td>...</td>\n",
       "      <td>0.282051</td>\n",
       "      <td>0.102564</td>\n",
       "      <td>0.102564</td>\n",
       "      <td>0.025641</td>\n",
       "      <td>0.128205</td>\n",
       "      <td>0.025641</td>\n",
       "      <td>0.025641</td>\n",
       "      <td>0.025641</td>\n",
       "      <td>0.00000</td>\n",
       "      <td>0.102564</td>\n",
       "    </tr>\n",
       "    <tr>\n",
       "      <th>314</th>\n",
       "      <td>West Henderson, Henderson, NV</td>\n",
       "      <td>50</td>\n",
       "      <td>26.160000</td>\n",
       "      <td>0.920000</td>\n",
       "      <td>4.030000</td>\n",
       "      <td>103.240000</td>\n",
       "      <td>36.785000</td>\n",
       "      <td>13.750000</td>\n",
       "      <td>1.954545</td>\n",
       "      <td>0.260000</td>\n",
       "      <td>...</td>\n",
       "      <td>0.140000</td>\n",
       "      <td>0.120000</td>\n",
       "      <td>0.060000</td>\n",
       "      <td>0.040000</td>\n",
       "      <td>0.020000</td>\n",
       "      <td>0.100000</td>\n",
       "      <td>0.160000</td>\n",
       "      <td>0.260000</td>\n",
       "      <td>0.00000</td>\n",
       "      <td>0.220000</td>\n",
       "    </tr>\n",
       "  </tbody>\n",
       "</table>\n",
       "<p>315 rows × 25 columns</p>\n",
       "</div>"
      ],
      "text/plain": [
       "                              Nhood  business_id_count  n_biz_in_2km_avg  \\\n",
       "0          The Strip, Las Vegas, NV               2643       2522.919031   \n",
       "1    Meadows Village, Las Vegas, NV                426       1546.462441   \n",
       "..                              ...                ...               ...   \n",
       "313        Foothills, Henderson, NV                 39         29.487179   \n",
       "314   West Henderson, Henderson, NV                 50         26.160000   \n",
       "\n",
       "     is_open_avg  stars_avg  review_count_avg  wday_hrs_avg  wend_hrs_avg  \\\n",
       "0       0.792660   3.570942        177.988271     41.209768     16.522783   \n",
       "1       0.786385   3.937793         57.819249     44.392567     14.867332   \n",
       "..           ...        ...               ...           ...           ...   \n",
       "313     0.923077   3.974359         12.333333     43.352564     13.179487   \n",
       "314     0.920000   4.030000        103.240000     36.785000     13.750000   \n",
       "\n",
       "     RestaurantsPriceRange2_avg  open_till_late_ratio  \\\n",
       "0                      2.342282              0.364359   \n",
       "1                      1.897119              0.215962   \n",
       "..                          ...                   ...   \n",
       "313                    1.666667              0.205128   \n",
       "314                    1.954545              0.260000   \n",
       "\n",
       "               ...             Home Services_ratio  Local Services_ratio  \\\n",
       "0              ...                        0.006054              0.013243   \n",
       "1              ...                        0.105634              0.105634   \n",
       "..             ...                             ...                   ...   \n",
       "313            ...                        0.282051              0.102564   \n",
       "314            ...                        0.140000              0.120000   \n",
       "\n",
       "     Beauty & Spas_ratio  Health & Medical_ratio  Automotive_ratio  \\\n",
       "0               0.072266                0.009837          0.004540   \n",
       "1               0.079812                0.023474          0.098592   \n",
       "..                   ...                     ...               ...   \n",
       "313             0.102564                0.025641          0.128205   \n",
       "314             0.060000                0.040000          0.020000   \n",
       "\n",
       "     Arts & Entertainment_ratio  Hotels & Travel_ratio  Alcohol_ratio  \\\n",
       "0                      0.179342               0.082482       0.332577   \n",
       "1                      0.119718               0.086854       0.136150   \n",
       "..                          ...                    ...            ...   \n",
       "313                    0.025641               0.025641       0.025641   \n",
       "314                    0.100000               0.160000       0.260000   \n",
       "\n",
       "     DressFormal_ratio  RestaurantsTakeOut_ratio  \n",
       "0              0.04843                  0.271283  \n",
       "1              0.00939                  0.157277  \n",
       "..                 ...                       ...  \n",
       "313            0.00000                  0.102564  \n",
       "314            0.00000                  0.220000  \n",
       "\n",
       "[315 rows x 25 columns]"
      ]
     },
     "metadata": {},
     "output_type": "display_data"
    },
    {
     "data": {
      "text/html": [
       "<div>\n",
       "<style>\n",
       "    .dataframe thead tr:only-child th {\n",
       "        text-align: right;\n",
       "    }\n",
       "\n",
       "    .dataframe thead th {\n",
       "        text-align: left;\n",
       "    }\n",
       "\n",
       "    .dataframe tbody tr th {\n",
       "        vertical-align: top;\n",
       "    }\n",
       "</style>\n",
       "<table border=\"1\" class=\"dataframe\">\n",
       "  <thead>\n",
       "    <tr style=\"text-align: right;\">\n",
       "      <th></th>\n",
       "      <th>CT_ID</th>\n",
       "      <th>business_id_count</th>\n",
       "      <th>n_biz_in_2km_avg</th>\n",
       "      <th>is_open_avg</th>\n",
       "      <th>stars_avg</th>\n",
       "      <th>review_count_avg</th>\n",
       "      <th>wday_hrs_avg</th>\n",
       "      <th>wend_hrs_avg</th>\n",
       "      <th>RestaurantsPriceRange2_avg</th>\n",
       "      <th>open_till_late_ratio</th>\n",
       "      <th>...</th>\n",
       "      <th>Home Services_ratio</th>\n",
       "      <th>Local Services_ratio</th>\n",
       "      <th>Beauty &amp; Spas_ratio</th>\n",
       "      <th>Health &amp; Medical_ratio</th>\n",
       "      <th>Automotive_ratio</th>\n",
       "      <th>Arts &amp; Entertainment_ratio</th>\n",
       "      <th>Hotels &amp; Travel_ratio</th>\n",
       "      <th>Alcohol_ratio</th>\n",
       "      <th>DressFormal_ratio</th>\n",
       "      <th>RestaurantsTakeOut_ratio</th>\n",
       "    </tr>\n",
       "  </thead>\n",
       "  <tbody>\n",
       "    <tr>\n",
       "      <th>0</th>\n",
       "      <td>32003006700</td>\n",
       "      <td>1767</td>\n",
       "      <td>2742.401245</td>\n",
       "      <td>0.802490</td>\n",
       "      <td>3.594793</td>\n",
       "      <td>203.042445</td>\n",
       "      <td>43.269053</td>\n",
       "      <td>17.418487</td>\n",
       "      <td>2.371550</td>\n",
       "      <td>0.353707</td>\n",
       "      <td>...</td>\n",
       "      <td>0.007357</td>\n",
       "      <td>0.011885</td>\n",
       "      <td>0.063384</td>\n",
       "      <td>0.007357</td>\n",
       "      <td>0.003396</td>\n",
       "      <td>0.175439</td>\n",
       "      <td>0.074137</td>\n",
       "      <td>0.353707</td>\n",
       "      <td>0.052632</td>\n",
       "      <td>0.292586</td>\n",
       "    </tr>\n",
       "    <tr>\n",
       "      <th>1</th>\n",
       "      <td>32003002302</td>\n",
       "      <td>602</td>\n",
       "      <td>2404.418605</td>\n",
       "      <td>0.790698</td>\n",
       "      <td>3.665282</td>\n",
       "      <td>101.425249</td>\n",
       "      <td>37.732558</td>\n",
       "      <td>14.210548</td>\n",
       "      <td>2.299550</td>\n",
       "      <td>0.390365</td>\n",
       "      <td>...</td>\n",
       "      <td>0.009967</td>\n",
       "      <td>0.026578</td>\n",
       "      <td>0.109635</td>\n",
       "      <td>0.024917</td>\n",
       "      <td>0.011628</td>\n",
       "      <td>0.137874</td>\n",
       "      <td>0.093023</td>\n",
       "      <td>0.200997</td>\n",
       "      <td>0.031561</td>\n",
       "      <td>0.196013</td>\n",
       "    </tr>\n",
       "    <tr>\n",
       "      <th>...</th>\n",
       "      <td>...</td>\n",
       "      <td>...</td>\n",
       "      <td>...</td>\n",
       "      <td>...</td>\n",
       "      <td>...</td>\n",
       "      <td>...</td>\n",
       "      <td>...</td>\n",
       "      <td>...</td>\n",
       "      <td>...</td>\n",
       "      <td>...</td>\n",
       "      <td>...</td>\n",
       "      <td>...</td>\n",
       "      <td>...</td>\n",
       "      <td>...</td>\n",
       "      <td>...</td>\n",
       "      <td>...</td>\n",
       "      <td>...</td>\n",
       "      <td>...</td>\n",
       "      <td>...</td>\n",
       "      <td>...</td>\n",
       "      <td>...</td>\n",
       "    </tr>\n",
       "    <tr>\n",
       "      <th>1452</th>\n",
       "      <td>32003007500</td>\n",
       "      <td>60</td>\n",
       "      <td>2.766667</td>\n",
       "      <td>0.933333</td>\n",
       "      <td>4.075000</td>\n",
       "      <td>28.983333</td>\n",
       "      <td>36.050000</td>\n",
       "      <td>13.783333</td>\n",
       "      <td>1.923077</td>\n",
       "      <td>0.166667</td>\n",
       "      <td>...</td>\n",
       "      <td>0.066667</td>\n",
       "      <td>0.033333</td>\n",
       "      <td>0.000000</td>\n",
       "      <td>0.016667</td>\n",
       "      <td>0.000000</td>\n",
       "      <td>0.066667</td>\n",
       "      <td>0.183333</td>\n",
       "      <td>0.116667</td>\n",
       "      <td>0.000000</td>\n",
       "      <td>0.116667</td>\n",
       "    </tr>\n",
       "    <tr>\n",
       "      <th>1453</th>\n",
       "      <td>04013010102</td>\n",
       "      <td>29</td>\n",
       "      <td>1.758621</td>\n",
       "      <td>0.965517</td>\n",
       "      <td>4.224138</td>\n",
       "      <td>20.620690</td>\n",
       "      <td>20.086207</td>\n",
       "      <td>6.551724</td>\n",
       "      <td>2.000000</td>\n",
       "      <td>0.068966</td>\n",
       "      <td>...</td>\n",
       "      <td>0.137931</td>\n",
       "      <td>0.000000</td>\n",
       "      <td>0.034483</td>\n",
       "      <td>0.000000</td>\n",
       "      <td>0.034483</td>\n",
       "      <td>0.000000</td>\n",
       "      <td>0.172414</td>\n",
       "      <td>0.068966</td>\n",
       "      <td>0.000000</td>\n",
       "      <td>0.103448</td>\n",
       "    </tr>\n",
       "  </tbody>\n",
       "</table>\n",
       "<p>1454 rows × 25 columns</p>\n",
       "</div>"
      ],
      "text/plain": [
       "            CT_ID  business_id_count  n_biz_in_2km_avg  is_open_avg  \\\n",
       "0     32003006700               1767       2742.401245     0.802490   \n",
       "1     32003002302                602       2404.418605     0.790698   \n",
       "...           ...                ...               ...          ...   \n",
       "1452  32003007500                 60          2.766667     0.933333   \n",
       "1453  04013010102                 29          1.758621     0.965517   \n",
       "\n",
       "      stars_avg  review_count_avg  wday_hrs_avg  wend_hrs_avg  \\\n",
       "0      3.594793        203.042445     43.269053     17.418487   \n",
       "1      3.665282        101.425249     37.732558     14.210548   \n",
       "...         ...               ...           ...           ...   \n",
       "1452   4.075000         28.983333     36.050000     13.783333   \n",
       "1453   4.224138         20.620690     20.086207      6.551724   \n",
       "\n",
       "      RestaurantsPriceRange2_avg  open_till_late_ratio  \\\n",
       "0                       2.371550              0.353707   \n",
       "1                       2.299550              0.390365   \n",
       "...                          ...                   ...   \n",
       "1452                    1.923077              0.166667   \n",
       "1453                    2.000000              0.068966   \n",
       "\n",
       "                ...             Home Services_ratio  Local Services_ratio  \\\n",
       "0               ...                        0.007357              0.011885   \n",
       "1               ...                        0.009967              0.026578   \n",
       "...             ...                             ...                   ...   \n",
       "1452            ...                        0.066667              0.033333   \n",
       "1453            ...                        0.137931              0.000000   \n",
       "\n",
       "      Beauty & Spas_ratio  Health & Medical_ratio  Automotive_ratio  \\\n",
       "0                0.063384                0.007357          0.003396   \n",
       "1                0.109635                0.024917          0.011628   \n",
       "...                   ...                     ...               ...   \n",
       "1452             0.000000                0.016667          0.000000   \n",
       "1453             0.034483                0.000000          0.034483   \n",
       "\n",
       "      Arts & Entertainment_ratio  Hotels & Travel_ratio  Alcohol_ratio  \\\n",
       "0                       0.175439               0.074137       0.353707   \n",
       "1                       0.137874               0.093023       0.200997   \n",
       "...                          ...                    ...            ...   \n",
       "1452                    0.066667               0.183333       0.116667   \n",
       "1453                    0.000000               0.172414       0.068966   \n",
       "\n",
       "      DressFormal_ratio  RestaurantsTakeOut_ratio  \n",
       "0              0.052632                  0.292586  \n",
       "1              0.031561                  0.196013  \n",
       "...                 ...                       ...  \n",
       "1452           0.000000                  0.116667  \n",
       "1453           0.000000                  0.103448  \n",
       "\n",
       "[1454 rows x 25 columns]"
      ]
     },
     "metadata": {},
     "output_type": "display_data"
    }
   ],
   "source": [
    "notnull_ratio = lambda x: x.notnull().mean()\n",
    "def isval_ratio(y):\n",
    "    def func(x):\n",
    "        if x.notnull().any():\n",
    "            return (x == y).mean() \n",
    "        return np.nan\n",
    "    return func\n",
    "def notval_ratio(y):\n",
    "    def func(x):\n",
    "        notnull = x.notnull()\n",
    "        # we always exlude NA values for calculation\n",
    "        if notnull.any():\n",
    "            # not null and not equal\n",
    "            return (notnull & (x != y)).mean() \n",
    "        return np.nan\n",
    "    return func\n",
    "\n",
    "def basic_agg(biz, by='Nhood'):\n",
    "    \"\"\"Calculate basic aggregates stats of the neighborhoods\"\"\"\n",
    "    \n",
    "    area_col = 'Nhood_area' if by == 'Nhood' else 'CT_LAND'\n",
    "    nna_ratio = [('ratio', notnull_ratio)]\n",
    "    avg = [('avg', 'mean')]\n",
    "    \n",
    "    stats = biz.groupby(by).agg({\n",
    "        'business_id': ['count'],\n",
    "        'n_biz_in_2km': avg,\n",
    "        \n",
    "        'is_open': avg,\n",
    "        'stars': avg,\n",
    "        'review_count': avg,\n",
    "        'wday_hrs': avg,\n",
    "        'wend_hrs': avg,\n",
    "        'RestaurantsPriceRange2': avg,  # by default will skip NA\n",
    "        \n",
    "        'open_till_late': [('ratio', 'mean')], # avergage of (TRUE, FALSE) vals is ratio\n",
    "        'Restaurants': nna_ratio,\n",
    "        'Food': nna_ratio,\n",
    "        'Coffee & Tea': nna_ratio,\n",
    "        'Shopping': nna_ratio,\n",
    "        'Nightlife': nna_ratio,\n",
    "        'Home Services': nna_ratio,\n",
    "        'Local Services': nna_ratio,\n",
    "        'Beauty & Spas': nna_ratio,\n",
    "        'Health & Medical': nna_ratio,\n",
    "        'Automotive': nna_ratio,\n",
    "        'Arts & Entertainment': nna_ratio,\n",
    "        'Hotels & Travel': nna_ratio,\n",
    "        \n",
    "        # attributes\n",
    "        'Alcohol': [('ratio', notval_ratio('none'))],\n",
    "        'DressFormal': [('ratio', isval_ratio(1))],\n",
    "        'RestaurantsTakeOut': [('ratio', isval_ratio(True))],\n",
    "        # m^2 to km^2\n",
    "        # area_col: [('km', lambda x: x.values[0] / 10e6)],\n",
    "    }).sort_values(('n_biz_in_2km', 'avg'), ascending=False)\n",
    "    \n",
    "    stats.columns = stats.columns.map(lambda x: '_'.join(x).strip('_'))\n",
    "    stats = pd.DataFrame(stats.to_records())\n",
    "    return stats\n",
    "    \n",
    "nbh_stats_min_20 = basic_agg(biz[biz['Nhood_biz_count'] >= 20])\n",
    "ct_stats_min_20 = basic_agg(biz[biz['CT_BIZ_COUNT'] >= 20], by='CT_ID')\n",
    "display(nbh_stats_min_20)\n",
    "display(ct_stats_min_20)"
   ]
  },
  {
   "cell_type": "markdown",
   "metadata": {},
   "source": [
    "## Export the feature matrix as a CSV file\n",
    "\n",
    "These exported feature matrices will later be used in clustering."
   ]
  },
  {
   "cell_type": "code",
   "execution_count": 36,
   "metadata": {
    "collapsed": true
   },
   "outputs": [],
   "source": [
    "nbh_stats_min_20.to_csv('../data/step2/nbh_stats_min_20.csv', index=False)\n",
    "ct_stats_min_20.to_csv('../data/step2/ct_stats_min_20.csv', index=False)"
   ]
  },
  {
   "cell_type": "code",
   "execution_count": 37,
   "metadata": {
    "collapsed": true
   },
   "outputs": [],
   "source": [
    "nbh_stats_min_10 = basic_agg(biz[biz['Nhood_biz_count'] >= 10])\n",
    "nbh_stats_min_10.to_csv('../data/step2/nbh_stats_min_10.csv', index=False)\n",
    "\n",
    "ct_stats_min_10 = basic_agg(biz[biz['CT_BIZ_COUNT'] >= 10], by='CT_ID')\n",
    "ct_stats_min_10.to_csv('../data/step2/ct_stats_min_10.csv', index=False)"
   ]
  },
  {
   "cell_type": "code",
   "execution_count": null,
   "metadata": {
    "collapsed": true
   },
   "outputs": [],
   "source": []
  }
 ],
 "metadata": {
  "kernelspec": {
   "display_name": "Python 3",
   "language": "python",
   "name": "python3"
  },
  "language_info": {
   "codemirror_mode": {
    "name": "ipython",
    "version": 3
   },
   "file_extension": ".py",
   "mimetype": "text/x-python",
   "name": "python",
   "nbconvert_exporter": "python",
   "pygments_lexer": "ipython3",
   "version": "3.6.3"
  },
  "toc": {
   "nav_menu": {},
   "number_sections": true,
   "sideBar": true,
   "skip_h1_title": false,
   "toc_cell": false,
   "toc_position": {},
   "toc_section_display": "block",
   "toc_window_display": false
  }
 },
 "nbformat": 4,
 "nbformat_minor": 2
}
