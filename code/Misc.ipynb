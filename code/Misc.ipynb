{
 "cells": [
  {
   "cell_type": "markdown",
   "metadata": {},
   "source": [
    "## Code that is not in use, but we do not want to throw it away"
   ]
  },
  {
   "cell_type": "code",
   "execution_count": null,
   "metadata": {
    "collapsed": true
   },
   "outputs": [],
   "source": [
    "def silhouette_sample_test(X):\n",
    "    silhouette = [[] for i in range(4)]\n",
    "    K = range(2,20)\n",
    "    Sample = [100,300,600,900]\n",
    "    for i in range(len(Sample)):\n",
    "        for j in K:\n",
    "            kmeans = KMeans(init='k-means++', n_clusters=j)\n",
    "            kmeans.fit(X)\n",
    "            labels = kmeans.labels_\n",
    "            silhouette[i].append(silhouette_score(X, labels, metric='euclidean', sample_size=Sample[i], random_state=None))\n",
    "            \n",
    "    fig, ax = plt.subplots()\n",
    "    \n",
    "    plt.plot(K,silhouette[0],label = \"100\")\n",
    "    plt.plot(K,silhouette[1],label = \"300\")\n",
    "    plt.plot(K,silhouette[2],label = \"600\")\n",
    "    plt.plot(K,silhouette[3],label = \"900\")\n",
    "    plt.title('Silhouette coefficient with sample items')\n",
    "    plt.xlabel('k')\n",
    "    plt.ylabel('Silhouette coefficient')\n",
    "    plt.xticks(K, K)\n",
    "    plt.legend()\n",
    "    plt.show()\n",
    "    \n",
    "    return fig, ax"
   ]
  }
 ],
 "metadata": {
  "kernelspec": {
   "display_name": "Python 3",
   "language": "python",
   "name": "python3"
  },
  "language_info": {
   "codemirror_mode": {
    "name": "ipython",
    "version": 3
   },
   "file_extension": ".py",
   "mimetype": "text/x-python",
   "name": "python",
   "nbconvert_exporter": "python",
   "pygments_lexer": "ipython3",
   "version": "3.6.3"
  },
  "toc": {
   "nav_menu": {},
   "number_sections": true,
   "sideBar": true,
   "skip_h1_title": false,
   "toc_cell": false,
   "toc_position": {},
   "toc_section_display": "block",
   "toc_window_display": false
  }
 },
 "nbformat": 4,
 "nbformat_minor": 2
}
